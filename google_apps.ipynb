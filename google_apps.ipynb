{
 "cells": [
  {
   "cell_type": "markdown",
   "id": "4a86ae78-8f94-45a5-a126-0ec693b7c4db",
   "metadata": {},
   "source": [
    "# Problem 3: Google Playstore Apps Dataset\n",
    "\n",
    "This notebook processes the \"GooglePlaystore.xlsx\" file to perform the following tasks:\n",
    "\n",
    "1. Preprocessing (28 pts)\n",
    "   - Remove the outlier in the 'Reviews' column where the value is \"3.0M\".\n",
    "   - Replace \"Varies with device\" with NA in all columns and drop those rows.\n",
    "   - Clean the 'Android Ver' column: remove trailing text (e.g., \"and up\"), extract only the first part of a range and limit the version to the first two components.\n",
    "   - Process the 'Installs' column: remove commas and '+' characters, ensure only numeric rows remain, and convert to integer.\n",
    "   - Process 'Reviews' and 'Rating': convert 'Reviews' to integers and 'Rating' to numeric; drop rows with missing Rating if Reviews < 100 and Installs < 50,000, otherwise fill missing Rating with the average of that Category.\n",
    "   - Process the 'Size' column: convert size values containing \"K\" or \"M\" to integers.\n",
    "\n",
    "2. Analysis (19 pts)\n",
    "   - Display category-wise rating statistics using the `describe` method.\n",
    "   - Extract all Free apps and create a function that returns the top 3 apps per Category based on a given numeric metric (Rating, Installs, or Reviews). The resulting DataFrame should include the columns: Category, App, and the specified metric.\n",
    "   - For Paid apps, remove the '$' symbol and calculate the average, maximum, and minimum prices.\n",
    "\n",
    "3. Visualization (16 pts)\n",
    "   - Split the 'Genres' column by \";\" into a list, explode the column, count the number of apps per genre, and display the top 10 genres as a pie chart.\n",
    "   - Create a box plot comparing the Rating distributions for the Business and Education categories.\n"
   ]
  },
  {
   "cell_type": "code",
   "execution_count": 1,
   "id": "ff786014-b272-468e-8c8a-c817bb0e12e4",
   "metadata": {},
   "outputs": [],
   "source": [
    "import pandas as pd\n",
    "import numpy as np\n",
    "import matplotlib.pyplot as plt\n",
    "\n",
    "# Load the Excel file (assumed to be in the same folder)\n",
    "google_df = pd.read_excel('GooglePlaystore.xlsx')"
   ]
  },
  {
   "cell_type": "markdown",
   "id": "fa1903b9-5d04-46cb-8448-4e9fc9d81b38",
   "metadata": {},
   "source": [
    "## 1. Remove Outlier in 'Reviews'\n",
    "\n",
    "Remove the row where the 'Reviews' column is \"3.0M\"."
   ]
  },
  {
   "cell_type": "code",
   "execution_count": 2,
   "id": "75d21485-0059-4178-a4fa-3ba5eca03e4e",
   "metadata": {},
   "outputs": [],
   "source": [
    "google_df = google_df[google_df['Reviews'] != '3.0M']"
   ]
  },
  {
   "cell_type": "markdown",
   "id": "f66c2d1c-47d0-4b72-9b50-ba3d93d4185f",
   "metadata": {},
   "source": [
    "## 2. Remove Rows with \"Varies with device\"\n",
    "\n",
    "Replace any occurrence of \"Varies with device\" with NA and drop those rows."
   ]
  },
  {
   "cell_type": "code",
   "execution_count": 3,
   "id": "9776da55-f24a-433b-a8e8-12f09eeecc6f",
   "metadata": {},
   "outputs": [
    {
     "name": "stderr",
     "output_type": "stream",
     "text": [
      "/tmp/ipykernel_1690638/2260338183.py:1: FutureWarning: Downcasting behavior in `replace` is deprecated and will be removed in a future version. To retain the old behavior, explicitly call `result.infer_objects(copy=False)`. To opt-in to the future behavior, set `pd.set_option('future.no_silent_downcasting', True)`\n",
      "  google_df = google_df.replace(\"Varies with device\", pd.NA)\n"
     ]
    }
   ],
   "source": [
    "google_df = google_df.replace(\"Varies with device\", pd.NA)\n",
    "google_df = google_df.dropna()"
   ]
  },
  {
   "cell_type": "markdown",
   "id": "c7fb93aa-e86e-421e-92fb-f1cfc355f3f2",
   "metadata": {},
   "source": [
    "## 3. Clean 'Android Ver' Column\n",
    "\n",
    "Clean the 'Android Ver' column by:\n",
    "- Splitting if a range exists (take only the first value).\n",
    "- Removing \"and up\" and extra spaces.\n",
    "- Keeping only the first two components of the version number."
   ]
  },
  {
   "cell_type": "code",
   "execution_count": 4,
   "id": "2034bbd4-4c5f-4a7b-966d-2352d13f3541",
   "metadata": {},
   "outputs": [],
   "source": [
    "def clean_android_ver(val):\n",
    "    if '-' in val:\n",
    "        val = val.split('-')[0].strip()\n",
    "    val = val.replace('and up', '').strip()\n",
    "    parts = val.split('.')\n",
    "    return '.'.join(parts[:2])\n",
    "\n",
    "# Use the working column name \"Android Ver\"\n",
    "google_df['Android Ver'] = google_df['Android Ver'].apply(clean_android_ver)"
   ]
  },
  {
   "cell_type": "markdown",
   "id": "e11a83d5-2ff1-4f5f-a1bd-b496b988549a",
   "metadata": {},
   "source": [
    "## 4. Process 'Installs' Column\n",
    "\n",
    "Clean the 'Installs' column by removing commas and '+' characters, ensure only numeric rows remain, and convert values to integers."
   ]
  },
  {
   "cell_type": "code",
   "execution_count": 5,
   "id": "9efc5804-6fdb-44b1-ab45-a15474735a96",
   "metadata": {},
   "outputs": [],
   "source": [
    "google_df['Installs'] = google_df['Installs'].str.replace('[+,]', '', regex=True)\n",
    "google_df = google_df[google_df['Installs'].str.isnumeric()]\n",
    "google_df['Installs'] = google_df['Installs'].astype(int)"
   ]
  },
  {
   "cell_type": "markdown",
   "id": "90212996-8105-4fdb-a35e-63d8e12b3040",
   "metadata": {},
   "source": [
    "## 5. Process 'Reviews' and 'Rating' Columns\n",
    "\n",
    "Convert 'Reviews' to integers and 'Rating' to numeric values.  \n",
    "For rows with missing 'Rating', if Reviews < 100 and Installs < 50,000, drop the row; otherwise, fill missing 'Rating' with the Category's average rating (rounded to 2 decimals)."
   ]
  },
  {
   "cell_type": "code",
   "execution_count": 6,
   "id": "6b933148-e709-4864-a990-b771e4744480",
   "metadata": {},
   "outputs": [],
   "source": [
    "google_df['Reviews'] = google_df['Reviews'].astype(int)\n",
    "google_df['Rating'] = pd.to_numeric(google_df['Rating'], errors='coerce')\n",
    "condition = (google_df['Reviews'] < 100) & (google_df['Installs'] < 50000)\n",
    "google_df = google_df[~((google_df['Rating'].isna()) & condition)]\n",
    "google_df['Rating'] = google_df.groupby('Category')['Rating']\\\n",
    "                               .transform(lambda x: x.fillna(round(x.mean(), 2)))"
   ]
  },
  {
   "cell_type": "markdown",
   "id": "991b3039-a197-43df-a385-94c9484e4e1c",
   "metadata": {},
   "source": [
    "## 6. Process 'Size' Column\n",
    "\n",
    "Convert the 'Size' column values that contain \"K\" (thousands) or \"M\" (millions) into integers. For example, \"8.7M\" should become 8700000."
   ]
  },
  {
   "cell_type": "code",
   "execution_count": 7,
   "id": "e00e5317-4e36-4f51-aac6-10bf50b46a74",
   "metadata": {},
   "outputs": [],
   "source": [
    "def convert_size(val):\n",
    "    val = val.upper().replace(',', '').strip()\n",
    "    if 'K' in val:\n",
    "        return int(float(val.replace('K','')) * 1000)\n",
    "    elif 'M' in val:\n",
    "        return int(float(val.replace('M','')) * 1000000)\n",
    "    else:\n",
    "        try:\n",
    "            return int(float(val))\n",
    "        except:\n",
    "            return pd.NA\n",
    "\n",
    "google_df['Size'] = google_df['Size'].apply(convert_size)\n",
    "google_df = google_df.dropna(subset=['Size'])"
   ]
  },
  {
   "cell_type": "markdown",
   "id": "7e523178-5a7b-43d4-933a-60905105dacf",
   "metadata": {},
   "source": [
    "## 7. Category-wise Rating Statistics\n",
    "\n",
    "Display descriptive statistics (using `describe`) for the 'Rating' column of each Category."
   ]
  },
  {
   "cell_type": "code",
   "execution_count": 8,
   "id": "95058763-20fa-4c5e-8814-a26f0e5a41d0",
   "metadata": {},
   "outputs": [
    {
     "name": "stdout",
     "output_type": "stream",
     "text": [
      "Rating statistics by Category:\n",
      "                      count      mean       std  min    25%   50%    75%  max\n",
      "Category                                                                     \n",
      "ART_AND_DESIGN         57.0  4.378947  0.337394  3.4  4.100  4.40  4.700  5.0\n",
      "AUTO_AND_VEHICLES      62.0  4.146774  0.569935  2.1  3.900  4.25  4.500  4.9\n",
      "BEAUTY                 37.0  4.291892  0.370719  3.1  4.000  4.30  4.600  4.9\n",
      "BOOKS_AND_REFERENCE   144.0  4.320139  0.457812  2.7  4.100  4.40  4.625  5.0\n",
      "BUSINESS              245.0  4.119184  0.663942  1.0  3.800  4.30  4.500  5.0\n",
      "COMICS                 48.0  4.154167  0.556187  2.8  3.775  4.40  4.600  5.0\n",
      "COMMUNICATION         209.0  4.100957  0.503831  1.0  3.900  4.20  4.400  5.0\n",
      "DATING                173.0  3.957803  0.666132  1.0  3.600  4.10  4.400  5.0\n",
      "EDUCATION             109.0  4.392661  0.255570  3.5  4.300  4.40  4.600  4.9\n",
      "ENTERTAINMENT          86.0  4.145349  0.291308  3.0  4.000  4.20  4.300  4.7\n",
      "EVENTS                 35.0  4.474286  0.345000  3.7  4.300  4.50  4.750  5.0\n",
      "FAMILY               1606.0  4.189726  0.515238  1.0  4.000  4.30  4.500  5.0\n",
      "FINANCE               263.0  4.114068  0.683553  1.0  3.900  4.30  4.500  5.0\n",
      "FOOD_AND_DRINK         84.0  4.097619  0.580398  1.7  3.800  4.20  4.500  5.0\n",
      "GAME                  955.0  4.268586  0.378618  1.0  4.100  4.30  4.500  5.0\n",
      "HEALTH_AND_FITNESS    220.0  4.215455  0.696722  1.4  4.000  4.50  4.600  5.0\n",
      "HOUSE_AND_HOME         56.0  4.162500  0.383080  2.8  4.000  4.25  4.500  4.8\n",
      "LIBRARIES_AND_DEMO     61.0  4.204918  0.369877  3.1  4.000  4.20  4.400  5.0\n",
      "LIFESTYLE             278.0  4.093165  0.717187  1.5  3.800  4.20  4.600  5.0\n",
      "MAPS_AND_NAVIGATION    94.0  4.004255  0.556663  1.9  3.700  4.20  4.400  4.9\n",
      "MEDICAL               321.0  4.180374  0.676356  1.0  3.900  4.30  4.600  5.0\n",
      "NEWS_AND_MAGAZINES    168.0  4.141667  0.592105  1.7  3.900  4.30  4.500  5.0\n",
      "PARENTING              44.0  4.347727  0.415115  3.1  4.100  4.45  4.700  5.0\n",
      "PERSONALIZATION       275.0  4.321091  0.369344  2.5  4.100  4.40  4.600  5.0\n",
      "PHOTOGRAPHY           234.0  4.145726  0.512675  2.0  4.000  4.30  4.500  5.0\n",
      "PRODUCTIVITY          231.0  4.140693  0.582787  1.0  4.000  4.20  4.500  5.0\n",
      "SHOPPING              178.0  4.226404  0.439606  1.6  4.100  4.30  4.500  5.0\n",
      "SOCIAL                170.0  4.257059  0.484289  1.9  4.100  4.30  4.600  5.0\n",
      "SPORTS                247.0  4.204858  0.467714  1.5  4.000  4.30  4.500  5.0\n",
      "TOOLS                 630.0  4.010317  0.639707  1.0  3.800  4.20  4.400  5.0\n",
      "TRAVEL_AND_LOCAL      155.0  4.029677  0.556680  2.2  3.700  4.20  4.400  5.0\n",
      "VIDEO_PLAYERS         113.0  4.029204  0.596370  1.8  3.700  4.20  4.400  4.9\n",
      "WEATHER                49.0  4.242857  0.349404  3.3  4.000  4.30  4.500  4.8\n"
     ]
    }
   ],
   "source": [
    "rating_stats = google_df.groupby('Category')['Rating'].describe()\n",
    "print(\"Rating statistics by Category:\")\n",
    "print(rating_stats)"
   ]
  },
  {
   "cell_type": "markdown",
   "id": "0e7acdcb-2eaa-490c-940d-47084b595fdc",
   "metadata": {},
   "source": [
    "## 8. Top 3 Free Apps per Category\n",
    "\n",
    "Extract all Free apps and define a function that returns the top 3 apps per Category for a given numeric metric (Rating, Installs, or Reviews).\n",
    "The result should include the columns: Category, App, and the specified metric."
   ]
  },
  {
   "cell_type": "code",
   "execution_count": 9,
   "id": "67789d5d-9810-4141-a1bf-72689eb491e1",
   "metadata": {
    "scrolled": true
   },
   "outputs": [
    {
     "name": "stdout",
     "output_type": "stream",
     "text": [
      "Top 3 Free Apps by Rating (sample):\n",
      "                 Category                               App  Rating\n",
      "10837              FAMILY  Fr. Mike Schmitz Audio Teachings     5.0\n",
      "6823               FAMILY    Barisal University App-BU Face     5.0\n",
      "6807                TOOLS                         Jabbla BT     5.0\n",
      "6783               FAMILY                   Wifi BT Scanner     5.0\n",
      "1038               EVENTS         Mindvalley U Tallinn 2018     5.0\n",
      "6727        COMMUNICATION                         BS-Mobile     5.0\n",
      "1030               EVENTS                        Prosperity     5.0\n",
      "6700                 GAME                  Brick Breaker BR     5.0\n",
      "10266  NEWS_AND_MAGAZINES             Noticias FC Barcelona     5.0\n",
      "1028               EVENTS                  SUMMER SONIC app     5.0\n",
      "\n",
      "Top 3 Free Apps by Installs (sample):\n",
      "                Category                                          App  \\\n",
      "1750                GAME                               Subway Surfers   \n",
      "3736  NEWS_AND_MAGAZINES                                  Google News   \n",
      "1700                GAME                               Subway Surfers   \n",
      "1917                GAME                               Subway Surfers   \n",
      "9844  NEWS_AND_MAGAZINES                                  Google News   \n",
      "3765  NEWS_AND_MAGAZINES                                  Google News   \n",
      "378        COMMUNICATION  UC Browser - Fast Download Private & Secure   \n",
      "3971       COMMUNICATION  UC Browser - Fast Download Private & Secure   \n",
      "3879              FAMILY                                          Pou   \n",
      "3255               TOOLS                   SHAREit - Transfer & Share   \n",
      "\n",
      "        Installs  \n",
      "1750  1000000000  \n",
      "3736  1000000000  \n",
      "1700  1000000000  \n",
      "1917  1000000000  \n",
      "9844  1000000000  \n",
      "3765  1000000000  \n",
      "378    500000000  \n",
      "3971   500000000  \n",
      "3879   500000000  \n",
      "3255   500000000  \n",
      "\n",
      "Top 3 Free Apps by Reviews (sample):\n",
      "           Category                                          App   Reviews\n",
      "1879           GAME                               Clash of Clans  44893888\n",
      "1670           GAME                               Clash of Clans  44891723\n",
      "1704           GAME                               Clash of Clans  44891723\n",
      "3986         FAMILY                               Clash of Clans  44881447\n",
      "3987         FAMILY                                 Clash Royale  23125280\n",
      "3994         FAMILY                             Candy Crush Saga  22419455\n",
      "420   COMMUNICATION  UC Browser - Fast Download Private & Secure  17714850\n",
      "378   COMMUNICATION  UC Browser - Fast Download Private & Secure  17712922\n",
      "3971  COMMUNICATION  UC Browser - Fast Download Private & Secure  17712922\n",
      "3953         SPORTS                                  8 Ball Pool  14184910\n"
     ]
    }
   ],
   "source": [
    "free_apps = google_df[google_df['Type'] == 'Free']\n",
    "\n",
    "def top3_by(metric):\n",
    "    return (free_apps.sort_values(metric, ascending=False)\n",
    "            .groupby('Category')\n",
    "            .head(3)[['Category', 'App', metric]])\n",
    "\n",
    "print(\"Top 3 Free Apps by Rating (sample):\")\n",
    "print(top3_by('Rating').head(10))\n",
    "print(\"\\nTop 3 Free Apps by Installs (sample):\")\n",
    "print(top3_by('Installs').head(10))\n",
    "print(\"\\nTop 3 Free Apps by Reviews (sample):\")\n",
    "print(top3_by('Reviews').head(10))"
   ]
  },
  {
   "cell_type": "markdown",
   "id": "4505e791-1291-45f9-a257-c62f85b75166",
   "metadata": {},
   "source": [
    "## 9. Price Analysis for Paid Applications\n",
    "\n",
    "For Paid apps, convert the 'Price' column to numeric values (by removing the '$' symbol) and calculate the average, maximum, and minimum prices."
   ]
  },
  {
   "cell_type": "code",
   "execution_count": 10,
   "id": "61adb800-9dc1-45ba-bc94-2ed164d89383",
   "metadata": {},
   "outputs": [
    {
     "name": "stdout",
     "output_type": "stream",
     "text": [
      "\n",
      "Paid Apps Price Statistics:\n",
      "Average Price: 15.199492119089317 Max Price: 400.0 Min Price: 0.99\n"
     ]
    }
   ],
   "source": [
    "paid_apps = google_df[google_df['Type'] == 'Paid'].copy()\n",
    "paid_apps['Price'] = paid_apps['Price'].astype(str).str.replace('$', '').astype(float)\n",
    "avg_price = paid_apps['Price'].mean()\n",
    "max_price = paid_apps['Price'].max()\n",
    "min_price = paid_apps['Price'].min()\n",
    "print(\"\\nPaid Apps Price Statistics:\")\n",
    "print(\"Average Price:\", avg_price, \"Max Price:\", max_price, \"Min Price:\", min_price)"
   ]
  },
  {
   "cell_type": "markdown",
   "id": "557d7632-e665-4ac4-b11c-73b3233d9659",
   "metadata": {},
   "source": [
    "## 10. Genre Distribution Pie Chart\n",
    "\n",
    "Split the 'Genres' column by ';' into a list, explode it to obtain individual genres, count the number of apps for each genre, and display the top 10 genres as a pie chart."
   ]
  },
  {
   "cell_type": "code",
   "execution_count": null,
   "id": "e0f1a209-1372-4249-88b6-c4b59cd94b1e",
   "metadata": {},
   "outputs": [],
   "source": [
    "google_df['Genres'] = google_df['Genres'].str.split(';')\n",
    "genre_df = google_df.explode('Genres')\n",
    "genre_counts = genre_df['Genres'].value_counts()\n",
    "\n",
    "plt.figure(figsize=(8,8))\n",
    "genre_counts.head(10).plot(kind='pie', autopct='%1.1f%%')\n",
    "plt.ylabel('')\n",
    "plt.title('Top 10 Genres Distribution')\n",
    "plt.show()"
   ]
  },
  {
   "cell_type": "markdown",
   "id": "5ad37d3a-6466-4523-a820-16442201577f",
   "metadata": {},
   "source": [
    "## 11. Box Plot for Business vs Education\n",
    "\n",
    "Create a box plot to compare the distribution of 'Rating' for apps in the 'BUSINESS' and 'EDUCATION' categories."
   ]
  },
  {
   "cell_type": "code",
   "execution_count": 12,
   "id": "a8c1635a-f507-40f7-9ea4-e3c4899328f4",
   "metadata": {},
   "outputs": [
    {
     "name": "stderr",
     "output_type": "stream",
     "text": [
      "/tmp/ipykernel_1690638/1849736568.py:5: MatplotlibDeprecationWarning: The 'labels' parameter of boxplot() has been renamed 'tick_labels' since Matplotlib 3.9; support for the old name will be dropped in 3.11.\n",
      "  plt.boxplot(data, labels=['BUSINESS', 'EDUCATION'])\n"
     ]
    },
    {
     "data": {
      "image/png": "[encoded data removed]",
      "text/plain": [
       "<Figure size 600x600 with 1 Axes>"
      ]
     },
     "metadata": {},
     "output_type": "display_data"
    }
   ],
   "source": [
    "subset = google_df[google_df['Category'].isin(['BUSINESS', 'EDUCATION'])]\n",
    "plt.figure(figsize=(6,6))\n",
    "# Prepare data for box plot: list of 'Rating' values for each category\n",
    "data = [subset[subset['Category'] == cat]['Rating'] for cat in ['BUSINESS', 'EDUCATION']]\n",
    "plt.boxplot(data, tick_labels=['BUSINESS', 'EDUCATION'])\n",
    "plt.title('Ratings: Business vs Education')\n",
    "plt.xlabel('Category')\n",
    "plt.ylabel('Rating')\n",
    "plt.show()"
   ]
  }
 ],
 "metadata": {
  "kernelspec": {
   "display_name": "Python 3 (ipykernel)",
   "language": "python",
   "name": "python3"
  },
  "language_info": {
   "codemirror_mode": {
    "name": "ipython",
    "version": 3
   },
   "file_extension": ".py",
   "mimetype": "text/x-python",
   "name": "python",
   "nbconvert_exporter": "python",
   "pygments_lexer": "ipython3",
   "version": "3.12.7"
  }
 },
 "nbformat": 4,
 "nbformat_minor": 5
}
