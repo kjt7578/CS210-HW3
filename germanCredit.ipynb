{
 "cells": [
  {
   "cell_type": "code",
   "execution_count": 1,
   "id": "3bbe4fea-c0b8-43e3-a9c5-2858a087f037",
   "metadata": {},
   "outputs": [],
   "source": [
    "import pandas as pd\n",
    "import numpy as np\n",
    "import matplotlib.pyplot as plt\n",
    "\n",
    "# Load the CSV file\n",
    "df = pd.read_csv('GermanCredit.csv')"
   ]
  },
  {
   "cell_type": "markdown",
   "id": "54c07efa-d8ca-4e85-9db5-71998fd62351",
   "metadata": {},
   "source": [
    "## [8 pts] Drop the 3 columns that contribute the least to the dataset.\n",
    "\n",
    "These would be the columns with the highest number of non-zero `'none'` values. Break ties by going left to right in columns.\n"
   ]
  },
  {
   "cell_type": "code",
   "execution_count": 2,
   "id": "8aea1831-fd11-413f-a019-c63388ec9735",
   "metadata": {},
   "outputs": [
    {
     "name": "stdout",
     "output_type": "stream",
     "text": [
      "Dropping columns: ['other_parties', 'other_payment_plans', 'own_telephone']\n"
     ]
    }
   ],
   "source": [
    "# Count 'none' values per column and drop top 3\n",
    "none_counts = df.apply(lambda col: (col == 'none').sum())\n",
    "drop_cols = none_counts.sort_values(ascending=False).head(3).index.tolist()\n",
    "print(\"Dropping columns:\", drop_cols)\n",
    "df.drop(columns=drop_cols, inplace=True)\n"
   ]
  },
  {
   "cell_type": "markdown",
   "id": "ec7780ca-5e19-4c58-a78c-f2e65e751317",
   "metadata": {},
   "source": [
    "## [4 pts] Remove unnecessary apostrophes (‘) from all string values.\n"
   ]
  },
  {
   "cell_type": "code",
   "execution_count": 3,
   "id": "030f8dd2-42bf-4e5f-92d0-2df62d6cd9f1",
   "metadata": {},
   "outputs": [],
   "source": [
    "# Strip apostrophes from all string values\n",
    "df = df.apply(lambda col: col.map(lambda x: x.replace(\"'\", \"\") if isinstance(x, str) else x))\n",
    "\n"
   ]
  },
  {
   "cell_type": "markdown",
   "id": "497e529b-2e35-43eb-b51b-2e56a47b8de4",
   "metadata": {},
   "source": [
    "## [5 pts] Map values in `checking_status` column.\n"
   ]
  },
  {
   "cell_type": "code",
   "execution_count": 4,
   "id": "9321dfd0-2dc0-4fe7-935e-fabc9d22bcba",
   "metadata": {},
   "outputs": [],
   "source": [
    "checking_map = {\n",
    "    \"no checking\": \"No Checking\",\n",
    "    \"<0\": \"Low\",\n",
    "    \"0<=X<200\": \"Medium\",\n",
    "    \">=200\": \"High\"\n",
    "}\n",
    "df[\"checking_status\"] = df[\"checking_status\"].map(checking_map)\n"
   ]
  },
  {
   "cell_type": "markdown",
   "id": "5e1ccf53-7f54-47c7-a544-9fc7fb92d686",
   "metadata": {},
   "source": [
    "## [5 pts] Map values in `savings_status` column.\n"
   ]
  },
  {
   "cell_type": "code",
   "execution_count": 5,
   "id": "9e8e7b0a-a485-450a-8fb4-835d4c65e925",
   "metadata": {},
   "outputs": [],
   "source": [
    "savings_map = {\n",
    "    \"no known savings\": \"No Savings\",\n",
    "    \"<100\": \"Low\",\n",
    "    \"100<=X<500\": \"Medium\",\n",
    "    \"500<=X<1000\": \"High\",\n",
    "    \">=1000\": \"High\"\n",
    "}\n",
    "df[\"savings_status\"] = df[\"savings_status\"].map(savings_map)\n"
   ]
  },
  {
   "cell_type": "markdown",
   "id": "01e58893-2713-45d9-9b6a-1eb036e379ae",
   "metadata": {},
   "source": [
    "## [4 pts] Change `class` column values.\n"
   ]
  },
  {
   "cell_type": "code",
   "execution_count": 6,
   "id": "e747f3a2-7cc3-4862-9259-4a4d8a60f5eb",
   "metadata": {},
   "outputs": [],
   "source": [
    "df[\"class\"] = df[\"class\"].map({\"good\": 1, \"bad\": 0})\n"
   ]
  },
  {
   "cell_type": "markdown",
   "id": "c35e01ba-3945-470a-8e17-d9b832599e66",
   "metadata": {},
   "source": [
    "## [5 pts] Change `employment` values.\n"
   ]
  },
  {
   "cell_type": "code",
   "execution_count": 7,
   "id": "e5f6e61d-e814-4514-b49c-ce6a7f351dee",
   "metadata": {},
   "outputs": [],
   "source": [
    "employment_map = {\n",
    "    \"unemployed\": \"Unemployed\",\n",
    "    \"<1\": \"Amateur\",\n",
    "    \"1<=X<4\": \"Professional\",\n",
    "    \"4<=X<7\": \"Experienced\",\n",
    "    \">=7\": \"Expert\"\n",
    "}\n",
    "df[\"employment\"] = df[\"employment\"].map(employment_map)\n"
   ]
  },
  {
   "cell_type": "markdown",
   "id": "d1049f27-ac9b-4b04-9b4f-1ed0fe66ed85",
   "metadata": {},
   "source": [
    "## [3 pts] Foreign Worker vs Credit Class\n",
    "\n",
    "Use `pd.crosstab()` to count how many foreign workers (yes/no) fall into each credit class (1 = good, 0 = bad).\n"
   ]
  },
  {
   "cell_type": "code",
   "execution_count": 8,
   "id": "6cc61dc8-c6c3-409c-9d83-3554e1e26469",
   "metadata": {},
   "outputs": [
    {
     "data": {
      "text/html": [
       "<div>\n",
       "<style scoped>\n",
       "    .dataframe tbody tr th:only-of-type {\n",
       "        vertical-align: middle;\n",
       "    }\n",
       "\n",
       "    .dataframe tbody tr th {\n",
       "        vertical-align: top;\n",
       "    }\n",
       "\n",
       "    .dataframe thead th {\n",
       "        text-align: right;\n",
       "    }\n",
       "</style>\n",
       "<table border=\"1\" class=\"dataframe\">\n",
       "  <thead>\n",
       "    <tr style=\"text-align: right;\">\n",
       "      <th>class</th>\n",
       "      <th>0</th>\n",
       "      <th>1</th>\n",
       "    </tr>\n",
       "    <tr>\n",
       "      <th>foreign_worker</th>\n",
       "      <th></th>\n",
       "      <th></th>\n",
       "    </tr>\n",
       "  </thead>\n",
       "  <tbody>\n",
       "    <tr>\n",
       "      <th>no</th>\n",
       "      <td>4</td>\n",
       "      <td>33</td>\n",
       "    </tr>\n",
       "    <tr>\n",
       "      <th>yes</th>\n",
       "      <td>296</td>\n",
       "      <td>667</td>\n",
       "    </tr>\n",
       "  </tbody>\n",
       "</table>\n",
       "</div>"
      ],
      "text/plain": [
       "class             0    1\n",
       "foreign_worker          \n",
       "no                4   33\n",
       "yes             296  667"
      ]
     },
     "execution_count": 8,
     "metadata": {},
     "output_type": "execute_result"
    }
   ],
   "source": [
    "pd.crosstab(df[\"foreign_worker\"], df[\"class\"])\n"
   ]
  },
  {
   "cell_type": "markdown",
   "id": "003d919d-7549-48bd-890b-a79bca891b62",
   "metadata": {},
   "source": [
    "## [2 pts] Employment vs Savings Status\n",
    "\n",
    "Use `pd.crosstab()` to count how many people are in each employment category for each savings status level.\n"
   ]
  },
  {
   "cell_type": "code",
   "execution_count": 9,
   "id": "1d30e79c-dd3a-4e63-870d-1a42d0509e68",
   "metadata": {},
   "outputs": [
    {
     "data": {
      "text/html": [
       "<div>\n",
       "<style scoped>\n",
       "    .dataframe tbody tr th:only-of-type {\n",
       "        vertical-align: middle;\n",
       "    }\n",
       "\n",
       "    .dataframe tbody tr th {\n",
       "        vertical-align: top;\n",
       "    }\n",
       "\n",
       "    .dataframe thead th {\n",
       "        text-align: right;\n",
       "    }\n",
       "</style>\n",
       "<table border=\"1\" class=\"dataframe\">\n",
       "  <thead>\n",
       "    <tr style=\"text-align: right;\">\n",
       "      <th>savings_status</th>\n",
       "      <th>High</th>\n",
       "      <th>Low</th>\n",
       "      <th>Medium</th>\n",
       "      <th>No Savings</th>\n",
       "    </tr>\n",
       "    <tr>\n",
       "      <th>employment</th>\n",
       "      <th></th>\n",
       "      <th></th>\n",
       "      <th></th>\n",
       "      <th></th>\n",
       "    </tr>\n",
       "  </thead>\n",
       "  <tbody>\n",
       "    <tr>\n",
       "      <th>Amateur</th>\n",
       "      <td>12</td>\n",
       "      <td>120</td>\n",
       "      <td>17</td>\n",
       "      <td>23</td>\n",
       "    </tr>\n",
       "    <tr>\n",
       "      <th>Experienced</th>\n",
       "      <td>18</td>\n",
       "      <td>100</td>\n",
       "      <td>24</td>\n",
       "      <td>32</td>\n",
       "    </tr>\n",
       "    <tr>\n",
       "      <th>Expert</th>\n",
       "      <td>34</td>\n",
       "      <td>133</td>\n",
       "      <td>22</td>\n",
       "      <td>64</td>\n",
       "    </tr>\n",
       "    <tr>\n",
       "      <th>Professional</th>\n",
       "      <td>44</td>\n",
       "      <td>210</td>\n",
       "      <td>33</td>\n",
       "      <td>52</td>\n",
       "    </tr>\n",
       "    <tr>\n",
       "      <th>Unemployed</th>\n",
       "      <td>3</td>\n",
       "      <td>40</td>\n",
       "      <td>7</td>\n",
       "      <td>12</td>\n",
       "    </tr>\n",
       "  </tbody>\n",
       "</table>\n",
       "</div>"
      ],
      "text/plain": [
       "savings_status  High  Low  Medium  No Savings\n",
       "employment                                   \n",
       "Amateur           12  120      17          23\n",
       "Experienced       18  100      24          32\n",
       "Expert            34  133      22          64\n",
       "Professional      44  210      33          52\n",
       "Unemployed         3   40       7          12"
      ]
     },
     "execution_count": 9,
     "metadata": {},
     "output_type": "execute_result"
    }
   ],
   "source": [
    "pd.crosstab(df[\"employment\"], df[\"savings_status\"])\n"
   ]
  },
  {
   "cell_type": "markdown",
   "id": "c25e7ecc-254d-4618-8d69-706c981947b6",
   "metadata": {},
   "source": [
    "## [4 pts] Average Credit Amount for Single Males with 4–7 Years Employment\n",
    "\n",
    "Find the average `credit_amount` of people with `personal_status` = `'male single'` and `employment` = `'Experienced'`.\n"
   ]
  },
  {
   "cell_type": "code",
   "execution_count": 10,
   "id": "e95169ad-0b3d-473d-b27d-e9e98b556a7f",
   "metadata": {},
   "outputs": [
    {
     "data": {
      "text/plain": [
       "4142.592592592592"
      ]
     },
     "execution_count": 10,
     "metadata": {},
     "output_type": "execute_result"
    }
   ],
   "source": [
    "avg_credit_amt = df[\n",
    "    (df[\"personal_status\"] == \"male single\") & (df[\"employment\"] == \"Experienced\")\n",
    "][\"credit_amount\"].mean()\n",
    "avg_credit_amt\n"
   ]
  },
  {
   "cell_type": "markdown",
   "id": "3781e36d-115d-4787-bcf7-5be241e6eb4d",
   "metadata": {},
   "source": [
    "## [4 pts] Average Credit Duration by Job Type\n",
    "\n",
    "Group the dataset by `job` and calculate the mean of `duration` for each job category.\n"
   ]
  },
  {
   "cell_type": "code",
   "execution_count": 11,
   "id": "2c76b097-84ba-44bd-9b8c-650fe1167056",
   "metadata": {},
   "outputs": [
    {
     "data": {
      "text/plain": [
       "job\n",
       "high qualif/self emp/mgmt    25.168919\n",
       "skilled                      21.411111\n",
       "unemp/unskilled non res      17.363636\n",
       "unskilled resident           16.535000\n",
       "Name: duration, dtype: float64"
      ]
     },
     "execution_count": 11,
     "metadata": {},
     "output_type": "execute_result"
    }
   ],
   "source": [
    "df.groupby(\"job\")[\"duration\"].mean()\n"
   ]
  },
  {
   "cell_type": "markdown",
   "id": "94011632-f858-48ff-9bc8-4aa31bb0379b",
   "metadata": {},
   "source": [
    "## [4 pts] Most Common Checking and Savings Status for Purpose = Education\n",
    "\n",
    "Filter rows with purpose `'education'` and find the most common values for `checking_status` and `savings_status`.\n"
   ]
  },
  {
   "cell_type": "code",
   "execution_count": 12,
   "id": "dcc506f1-8673-480f-8d9e-4c62936fa579",
   "metadata": {},
   "outputs": [
    {
     "name": "stdout",
     "output_type": "stream",
     "text": [
      "Most common checking status: No Checking\n",
      "Most common savings status: Low\n"
     ]
    }
   ],
   "source": [
    "edu_df = df[df[\"purpose\"] == \"education\"]\n",
    "most_common_checking = edu_df[\"checking_status\"].mode().iloc[0]\n",
    "most_common_savings = edu_df[\"savings_status\"].mode().iloc[0]\n",
    "\n",
    "print(\"Most common checking status:\", most_common_checking)\n",
    "print(\"Most common savings status:\", most_common_savings)\n"
   ]
  },
  {
   "cell_type": "markdown",
   "id": "6affaf4f-2156-41f6-8299-22ec4dbba068",
   "metadata": {},
   "source": [
    "## [9 pts] Subplots of savings_status and checking_status vs personal_status\n",
    "\n",
    "Create two bar chart subplots:\n",
    "- One for savings_status (x-axis) vs. personal_status (y counts)\n",
    "- One for checking_status (x-axis) vs. personal_status (y counts)\n",
    "\n",
    "Each personal_status bar should be a different color.\n"
   ]
  },
  {
   "cell_type": "code",
   "execution_count": 13,
   "id": "5c16adad-a30b-4998-be39-09697187a633",
   "metadata": {},
   "outputs": [
    {
     "data": {
      "image/png": "[encoded data removed]",
      "text/plain": [
       "<Figure size 1400x600 with 2 Axes>"
      ]
     },
     "metadata": {},
     "output_type": "display_data"
    }
   ],
   "source": [
    "fig, axes = plt.subplots(1, 2, figsize=(14, 6))\n",
    "\n",
    "# Savings status vs personal status\n",
    "savings_counts = pd.crosstab(df['savings_status'], df['personal_status'])\n",
    "savings_counts.plot(kind='bar', stacked=False, ax=axes[0])\n",
    "axes[0].set_title('Savings Status vs Personal Status')\n",
    "axes[0].set_xlabel('Savings Status')\n",
    "axes[0].set_ylabel('Count')\n",
    "\n",
    "# Checking status vs personal status\n",
    "checking_counts = pd.crosstab(df['checking_status'], df['personal_status'])\n",
    "checking_counts.plot(kind='bar', stacked=False, ax=axes[1])\n",
    "axes[1].set_title('Checking Status vs Personal Status')\n",
    "axes[1].set_xlabel('Checking Status')\n",
    "axes[1].set_ylabel('Count')\n",
    "\n",
    "plt.tight_layout()\n",
    "plt.show()\n"
   ]
  },
  {
   "cell_type": "markdown",
   "id": "e490e152-7052-4da7-8e35-f3aafead1734",
   "metadata": {},
   "source": [
    "## [9 pts] Property Magnitude vs Average Age (credit_amount > 4000)\n",
    "\n",
    "For customers with credit_amount > 4000, plot a bar graph of:\n",
    "- property_magnitude (x-axis)\n",
    "- average age (y-axis)\n"
   ]
  },
  {
   "cell_type": "code",
   "execution_count": 14,
   "id": "3f338fc7-27f3-4f0f-a17c-67d65602daf6",
   "metadata": {},
   "outputs": [
    {
     "data": {
      "image/png": "[encoded data removed]",
      "text/plain": [
       "<Figure size 800x500 with 1 Axes>"
      ]
     },
     "metadata": {},
     "output_type": "display_data"
    }
   ],
   "source": [
    "# Filter customers\n",
    "filtered = df[df['credit_amount'] > 4000]\n",
    "avg_age = filtered.groupby('property_magnitude')['age'].mean()\n",
    "\n",
    "# Plot\n",
    "plt.figure(figsize=(8, 5))\n",
    "avg_age.plot(kind='bar')\n",
    "plt.title('Average Age by Property Magnitude (Credit > 4000)')\n",
    "plt.xlabel('Property Magnitude')\n",
    "plt.ylabel('Average Age')\n",
    "plt.xticks(rotation=45)\n",
    "plt.tight_layout()\n",
    "plt.show()\n"
   ]
  },
  {
   "cell_type": "markdown",
   "id": "2045045e-c569-4692-8414-0864e4b26c7d",
   "metadata": {},
   "source": [
    "## [6 pts] Pie Charts for \"High\" Savings Status and Age > 40\n",
    "\n",
    "Make subplots (1 row, 3 columns) of pie charts for:\n",
    "- personal_status\n",
    "- credit_history\n",
    "- job\n",
    "\n",
    "Only include people with savings_status = \"High\" and age > 40.\n"
   ]
  },
  {
   "cell_type": "code",
   "execution_count": null,
   "id": "39ccdaa3-7df3-443a-beac-297f780818c3",
   "metadata": {},
   "outputs": [],
   "source": [
    "subset = df[(df['savings_status'] == 'High') & (df['age'] > 40)]\n",
    "\n",
    "fig, axes = plt.subplots(1, 3, figsize=(18, 5))\n",
    "\n",
    "# Pie for personal_status\n",
    "subset['personal_status'].value_counts().plot.pie(autopct='%1.1f%%', ax=axes[0])\n",
    "axes[0].set_title('Personal Status')\n",
    "\n",
    "# Pie for credit_history\n",
    "subset['credit_history'].value_counts().plot.pie(autopct='%1.1f%%', ax=axes[1])\n",
    "axes[1].set_title('Credit History')\n",
    "\n",
    "# Pie for job\n",
    "subset['job'].value_counts().plot.pie(autopct='%1.1f%%', ax=axes[2])\n",
    "axes[2].set_title('Job')\n",
    "\n",
    "plt.tight_layout()\n",
    "plt.show()\n"
   ]
  }
 ],
 "metadata": {
  "kernelspec": {
   "display_name": "Python 3 (ipykernel)",
   "language": "python",
   "name": "python3"
  },
  "language_info": {
   "codemirror_mode": {
    "name": "ipython",
    "version": 3
   },
   "file_extension": ".py",
   "mimetype": "text/x-python",
   "name": "python",
   "nbconvert_exporter": "python",
   "pygments_lexer": "ipython3",
   "version": "3.12.7"
  }
 },
 "nbformat": 4,
 "nbformat_minor": 5
}
