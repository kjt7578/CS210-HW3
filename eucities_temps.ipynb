{
 "cells": [
  {
   "cell_type": "code",
   "execution_count": null,
   "id": "a7e2a113-cd7a-4d2e-b7f0-a6ae2441e7c8",
   "metadata": {},
   "outputs": [],
   "source": [
    "# Load CSV\n",
    "import pandas as pd\n",
    "import matplotlib.pyplot as plt\n",
    "import matplotlib.cm as cm\n",
    "import numpy as np\n",
    "\n",
    "df = pd.read_csv('./HW3/EuCitiesTemperatures.csv')\n",
    "\n",
    "# Fill missing latitude and longitude with country averages (rounded to 2 decimals)\n",
    "df['latitude'] = df.groupby('country')['latitude'].transform(lambda x: x.fillna(round(x.mean(), 2)))\n",
    "df['longitude'] = df.groupby('country')['longitude'].transform(lambda x: x.fillna(round(x.mean(), 2)))\n",
    "\n",
    "# Filter cities between latitude 40-60 and longitude 15-30\n",
    "filtered_df = df[(df['latitude'] >= 40) & (df['latitude'] <= 60) &\n",
    "                 (df['longitude'] >= 15) & (df['longitude'] <= 30)]\n",
    "country_counts = filtered_df['country'].value_counts()\n",
    "max_cities = country_counts[country_counts == country_counts.max()]\n",
    "print(\"Countries with most cities in lat[40~60] & lon[15~30]:\")\n",
    "print(max_cities)\n",
    "\n",
    "# Create region_type and fill missing temperature values\n",
    "df['region_type'] = df['EU'] + '_' + df['coastline']\n",
    "region_avg_temp = df.groupby('region_type')['temperature'].mean()\n",
    "df['temperature'] = df.apply(lambda row: region_avg_temp[row['region_type']] if pd.isna(row['temperature']) else row['temperature'], axis=1)\n",
    "\n",
    "# [Visualization 1] Bar chart - number of cities by region type\n",
    "region_counts = df['region_type'].value_counts()\n",
    "plt.figure(figsize=(8,5))\n",
    "plt.bar(region_counts.index, region_counts.values)\n",
    "plt.xlabel('Region Type')\n",
    "plt.ylabel('Number of Cities')\n",
    "plt.title('Number of Cities by Region Type')\n",
    "plt.xticks(rotation=45)\n",
    "plt.tight_layout()\n",
    "plt.show()\n",
    "\n",
    "# [Visualization 2] Scatter plot of lat vs lon, colored by country\n",
    "countries = df['country'].unique()\n",
    "colors = cm.rainbow(np.linspace(0, 1, len(countries)))\n",
    "color_map = dict(zip(countries, colors))\n",
    "plt.figure(figsize=(8,6))\n",
    "for country in countries:\n",
    "    subset = df[df['country'] == country]\n",
    "    plt.scatter(subset['longitude'], subset['latitude'], label=country, color=color_map[country], s=10)\n",
    "plt.xlabel(\"Longitude\")\n",
    "plt.ylabel(\"Latitude\")\n",
    "plt.title(\"City Locations by Country\")\n",
    "plt.tight_layout()\n",
    "plt.show()\n",
    "\n",
    "# [Visualization 3] Histogram - population group (5 bins) vs countries\n",
    "bins = pd.cut(df['population'], bins=5)\n",
    "bin_counts = df.groupby(bins)['country'].nunique()\n",
    "bin_counts.plot(kind='bar', figsize=(8,5))\n",
    "plt.xlabel('Population Group')\n",
    "plt.ylabel('Number of Countries')\n",
    "plt.title('Countries by Population Group (5 Bins)')\n",
    "plt.tight_layout()\n",
    "plt.show()\n",
    "\n",
    "# [Visualization 4] Subplots by region type, color by temperature\n",
    "fig, axes = plt.subplots(2, 2, figsize=(14, 10))\n",
    "region_types = df['region_type'].unique()\n",
    "temp_color = lambda t: 'red' if t > 10 else 'blue' if t < 6 else 'orange'\n",
    "for i, region in enumerate(region_types):\n",
    "    subset = df[df['region_type'] == region].reset_index(drop=True)\n",
    "    ax = axes[i // 2, i % 2]\n",
    "    colors = subset['temperature'].apply(temp_color)\n",
    "    ax.scatter(subset.index, subset['latitude'], c=colors)\n",
    "    ax.set_title(f'Region: {region}')\n",
    "    ax.set_xlabel('City Index')\n",
    "    ax.set_ylabel('Latitude')\n",
    "    ax.set_xticks(range(len(subset)))\n",
    "    ax.grid(True)\n",
    "plt.tight_layout()\n",
    "plt.show()\n"
   ]
  },
  {
   "cell_type": "code",
   "execution_count": 2,
   "id": "54b9bcec-63d9-457b-bd1c-83ba8bc3c845",
   "metadata": {},
   "outputs": [
    {
     "data": {
      "text/plain": [
       "['.npm',\n",
       " '.config',\n",
       " '.cache',\n",
       " '.virtual_documents',\n",
       " 'HW3',\n",
       " '.ipython',\n",
       " '.jupyter',\n",
       " '.local',\n",
       " '.ipynb_checkpoints',\n",
       " 'shared']"
      ]
     },
     "execution_count": 2,
     "metadata": {},
     "output_type": "execute_result"
    }
   ],
   "source": [
    "import os\n",
    "os.listdir()"
   ]
  },
  {
   "cell_type": "code",
   "execution_count": 3,
   "id": "bf412534-efc8-48a8-9a6e-fbad98079ff5",
   "metadata": {},
   "outputs": [
    {
     "name": "stdout",
     "output_type": "stream",
     "text": [
      "/home/jk2065\n"
     ]
    }
   ],
   "source": [
    "import os\n",
    "print(os.getcwd())"
   ]
  },
  {
   "cell_type": "code",
   "execution_count": 5,
   "id": "357a3d82-4584-47af-b456-ccb5a2cf1c32",
   "metadata": {},
   "outputs": [
    {
     "data": {
      "text/plain": [
       "['eucities_temps.ipynb',\n",
       " 'GermanCredit.csv',\n",
       " 'EuCitiesTemperatures.csv',\n",
       " 'google_apps.ipynb',\n",
       " '.ipynb_checkpoints',\n",
       " 'GooglePlaystore.xlsx',\n",
       " 'german_credit.ipynb']"
      ]
     },
     "execution_count": 5,
     "metadata": {},
     "output_type": "execute_result"
    }
   ],
   "source": [
    "os.listdir('HW3')"
   ]
  },
  {
   "cell_type": "code",
   "execution_count": null,
   "id": "d8aaca9f-cd1d-4f4c-ae11-b710e2e8c3da",
   "metadata": {},
   "outputs": [],
   "source": []
  }
 ],
 "metadata": {
  "kernelspec": {
   "display_name": "Python 3 (ipykernel)",
   "language": "python",
   "name": "python3"
  },
  "language_info": {
   "codemirror_mode": {
    "name": "ipython",
    "version": 3
   },
   "file_extension": ".py",
   "mimetype": "text/x-python",
   "name": "python",
   "nbconvert_exporter": "python",
   "pygments_lexer": "ipython3",
   "version": "3.12.7"
  }
 },
 "nbformat": 4,
 "nbformat_minor": 5
}
